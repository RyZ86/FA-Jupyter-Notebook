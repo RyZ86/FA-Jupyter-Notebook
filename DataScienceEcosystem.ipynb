{
  "metadata": {
    "kernelspec": {
      "name": "python",
      "display_name": "Python (Pyodide)",
      "language": "python"
    },
    "language_info": {
      "codemirror_mode": {
        "name": "python",
        "version": 3
      },
      "file_extension": ".py",
      "mimetype": "text/x-python",
      "name": "python",
      "nbconvert_exporter": "python",
      "pygments_lexer": "ipython3",
      "version": "3.8"
    }
  },
  "nbformat_minor": 4,
  "nbformat": 4,
  "cells": [
    {
      "cell_type": "markdown",
      "source": "# Data Science Tools and Ecosystem",
      "metadata": {}
    },
    {
      "cell_type": "code",
      "source": "",
      "metadata": {
        "trusted": true
      },
      "outputs": [],
      "execution_count": null
    },
    {
      "cell_type": "markdown",
      "source": "### In this markdown, Data Science Tools and Ecosystem are summarized",
      "metadata": {}
    },
    {
      "cell_type": "code",
      "source": "## Some of the popular languages that Data Scientists use are:\n\n### Ordered List\n\n| Number | Listing |\n| ------ | ------- |\n| 1 | Python |\n| 2 | R |\n| 3 | Julia |\n",
      "metadata": {
        "trusted": true
      },
      "outputs": [],
      "execution_count": null
    },
    {
      "cell_type": "markdown",
      "source": "## Some of the popular libraries used by Data Scientists include:\n\n### Ordered List\n\n| Number | Listing |\n| ------ | ------- |\n| 1 | PyTorch |\n| 2 | Lattice |\n| 3 | Panda |\n",
      "metadata": {}
    },
    {
      "cell_type": "markdown",
      "source": "## Some of the popular tools used by Data Scientists include:\n\n### Ordered List\n\n| Data Science Tools |\n| ------------- |\n| JupyterLab |\n| Apache Spark |\n| Apache Hadoop |\n",
      "metadata": {}
    },
    {
      "cell_type": "code",
      "source": "# Simple arithmetic\n\n(3*4)+5",
      "metadata": {
        "trusted": true
      },
      "outputs": [
        {
          "execution_count": 3,
          "output_type": "execute_result",
          "data": {
            "text/plain": "17"
          },
          "metadata": {}
        }
      ],
      "execution_count": 3
    },
    {
      "cell_type": "code",
      "source": "# This will convert 200 minutes to hours by diving by 60\n\nminutes = 200\nhours = minutes/60\nprint(minutes, 'minutes =', hours, 'hours')\n",
      "metadata": {
        "trusted": true
      },
      "outputs": [
        {
          "name": "stdout",
          "text": "200 minutes = 3.3333333333333335 hours\n",
          "output_type": "stream"
        }
      ],
      "execution_count": 11
    },
    {
      "cell_type": "markdown",
      "source": "### Objectives(bold) then list objectives of this assignment\n\n* Create a Markdown cell to list data science languages\n* Create a Jupyter Notebook\n* Create a code cell to add and multiply numbers\n",
      "metadata": {}
    },
    {
      "cell_type": "markdown",
      "source": "## Author\n### Ryan Zorsky ",
      "metadata": {}
    },
    {
      "cell_type": "code",
      "source": "",
      "metadata": {
        "trusted": true
      },
      "outputs": [],
      "execution_count": null
    }
  ]
}